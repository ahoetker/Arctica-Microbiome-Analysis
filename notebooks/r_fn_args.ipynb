{
 "cells": [
  {
   "cell_type": "code",
   "execution_count": 89,
   "metadata": {
    "collapsed": true
   },
   "outputs": [],
   "source": [
    "from rpy2.robjects import r, pandas2ri\n",
    "from rpy2.robjects.packages import SignatureTranslatedAnonymousPackage\n",
    "pandas2ri.activate()"
   ]
  },
  {
   "cell_type": "code",
   "execution_count": 90,
   "metadata": {},
   "outputs": [],
   "source": [
    "with open(\"/Users/andrew/Projects/constrictpy/ConstrictR/desc_stats.R\", \"r\") as desc_stats_file:\n",
    "    contents = desc_stats_file.read()\n",
    "\n",
    "fn_desc_stats = SignatureTranslatedAnonymousPackage(contents, name=\"desc_stats\")"
   ]
  },
  {
   "cell_type": "code",
   "execution_count": 91,
   "metadata": {},
   "outputs": [],
   "source": [
    "def file_to_anonymous_package(file: str) -> SignatureTranslatedAnonymousPackage:\n",
    "    \"\"\"\n",
    "    Takes some file.R and sources it in rpy2 as an anonymous package\n",
    "    Returns the R package as an object\n",
    "    The name of the package is accessible by package.__rname__ as str\n",
    "    \"\"\"\n",
    "    package_name = os.path.splitext(os.path.split(file)[1])[0]\n",
    "    with open(file, \"r\") as r_package_file:\n",
    "        r_package_src = r_package_file.read()\n",
    "    package_src = SignatureTranslatedAnonymousPackage(r_package_src, name=package_name)\n",
    "    return package_src\n",
    "    "
   ]
  },
  {
   "cell_type": "code",
   "execution_count": 95,
   "metadata": {},
   "outputs": [
    {
     "name": "stdout",
     "output_type": "stream",
     "text": [
      "/Users/andrew/Projects/constrictpy/ConstrictR/centrality.R: Error in file(filename, \"r\", encoding = encoding) : \n  cannot open the connection\n\n/Users/andrew/Projects/constrictpy/ConstrictR/clust.R: Error in file(filename, \"r\", encoding = encoding) : \n  cannot open the connection\n\n"
     ]
    },
    {
     "data": {
      "text/plain": [
       "{'adj_matrix': rpy2.robjects.packages.Package as a <module 'adj_matrix'>,\n 'banner': rpy2.robjects.packages.Package as a <module 'banner'>,\n 'corr': rpy2.robjects.packages.Package as a <module 'corr'>,\n 'covar': rpy2.robjects.packages.Package as a <module 'covar'>,\n 'desc_stats': rpy2.robjects.packages.Package as a <module 'desc_stats'>,\n 'df_rank': rpy2.robjects.packages.Package as a <module 'df_rank'>,\n 'rank': rpy2.robjects.packages.Package as a <module 'rank'>,\n 'sparse': rpy2.robjects.packages.Package as a <module 'sparse'>,\n 'sparsity': rpy2.robjects.packages.Package as a <module 'sparsity'>,\n 'wcgna': rpy2.robjects.packages.Package as a <module 'wcgna'>}"
      ]
     },
     "execution_count": 95,
     "metadata": {},
     "output_type": "execute_result"
    }
   ],
   "source": [
    "import os\n",
    "from typing import Dict\n",
    "constrictr_dir = os.path.join(\"/\",\"Users\", \"andrew\", \"Projects\", \"constrictpy\", \"ConstrictR\")\n",
    "r_package_files = [\"adj_matrix.R\",\n",
    "                   \"banner.R\",\n",
    "                   \"centrality.R\",\n",
    "                   \"clust.R\",\n",
    "                   \"corr.R\",\n",
    "                   \"covar.R\",\n",
    "                   \"desc_stats.R\",\n",
    "                   \"df_rank.R\",\n",
    "                   \"rank.R\",\n",
    "                   \"sparse.R\",\n",
    "                   \"sparsity.R\",\n",
    "                   \"wcgna.R\",]\n",
    "\n",
    "blacklist = [\"centrality.R\", \"clust.R\"]\n",
    "\n",
    "sourced_r_packages: Dict[str, SignatureTranslatedAnonymousPackage] = {}\n",
    "\n",
    "for filename in r_package_files:\n",
    "    r_package_file = os.path.join(constrictr_dir, filename)\n",
    "    try:\n",
    "        package = file_to_anonymous_package(r_package_file)\n",
    "    except Exception as err:\n",
    "        print(\"{}: {}\".format(r_package_file, err))\n",
    "    sourced_r_packages[package.__rname__] = package\n",
    "        \n",
    "sourced_r_packages"
   ]
  },
  {
   "cell_type": "code",
   "execution_count": 60,
   "metadata": {},
   "outputs": [],
   "source": [
    "import pandas as pd"
   ]
  },
  {
   "cell_type": "code",
   "execution_count": 61,
   "metadata": {},
   "outputs": [],
   "source": [
    "data = [1, 2, 3, 4, 5, 4, 3, 2, 1]\n",
    "df = pd.DataFrame(data)"
   ]
  },
  {
   "cell_type": "code",
   "execution_count": 62,
   "metadata": {},
   "outputs": [
    {
     "data": {
      "text/html": [
       "<div>\n",
       "<style>\n",
       "    .dataframe thead tr:only-child th {\n",
       "        text-align: right;\n",
       "    }\n",
       "\n",
       "    .dataframe thead th {\n",
       "        text-align: left;\n",
       "    }\n",
       "\n",
       "    .dataframe tbody tr th {\n",
       "        vertical-align: top;\n",
       "    }\n",
       "</style>\n",
       "<table border=\"1\" class=\"dataframe\">\n",
       "  <thead>\n",
       "    <tr style=\"text-align: right;\">\n",
       "      <th></th>\n",
       "      <th>min</th>\n",
       "      <th>max</th>\n",
       "      <th>range</th>\n",
       "      <th>median</th>\n",
       "      <th>mean</th>\n",
       "      <th>var</th>\n",
       "      <th>sd</th>\n",
       "      <th>se</th>\n",
       "    </tr>\n",
       "  </thead>\n",
       "  <tbody>\n",
       "    <tr>\n",
       "      <th>1</th>\n",
       "      <td>1</td>\n",
       "      <td>5</td>\n",
       "      <td>1</td>\n",
       "      <td>3</td>\n",
       "      <td>2.777778</td>\n",
       "      <td>1.944444</td>\n",
       "      <td>1.394433</td>\n",
       "      <td>0.464811</td>\n",
       "    </tr>\n",
       "    <tr>\n",
       "      <th>2</th>\n",
       "      <td>1</td>\n",
       "      <td>5</td>\n",
       "      <td>5</td>\n",
       "      <td>3</td>\n",
       "      <td>2.777778</td>\n",
       "      <td>1.944444</td>\n",
       "      <td>1.394433</td>\n",
       "      <td>0.464811</td>\n",
       "    </tr>\n",
       "  </tbody>\n",
       "</table>\n",
       "</div>"
      ],
      "text/plain": [
       "<div>\n",
       "<style>\n",
       "    .dataframe thead tr:only-child th {\n",
       "        text-align: right;\n",
       "    }\n",
       "\n",
       "    .dataframe thead th {\n",
       "        text-align: left;\n",
       "    }\n",
       "\n",
       "    .dataframe tbody tr th {\n",
       "        vertical-align: top;\n",
       "    }\n",
       "</style>\n",
       "<table border=\"1\" class=\"dataframe\">\n",
       "  <thead>\n",
       "    <tr style=\"text-align: right;\">\n",
       "      <th></th>\n",
       "      <th>min</th>\n",
       "      <th>max</th>\n",
       "      <th>range</th>\n",
       "      <th>median</th>\n",
       "      <th>mean</th>\n",
       "      <th>var</th>\n",
       "      <th>sd</th>\n",
       "      <th>se</th>\n",
       "    </tr>\n",
       "  </thead>\n",
       "  <tbody>\n",
       "    <tr>\n",
       "      <th>1</th>\n",
       "      <td>1</td>\n",
       "      <td>5</td>\n",
       "      <td>1</td>\n",
       "      <td>3</td>\n",
       "      <td>2.777778</td>\n",
       "      <td>1.944444</td>\n",
       "      <td>1.394433</td>\n",
       "      <td>0.464811</td>\n",
       "    </tr>\n",
       "    <tr>\n",
       "      <th>2</th>\n",
       "      <td>1</td>\n",
       "      <td>5</td>\n",
       "      <td>5</td>\n",
       "      <td>3</td>\n",
       "      <td>2.777778</td>\n",
       "      <td>1.944444</td>\n",
       "      <td>1.394433</td>\n",
       "      <td>0.464811</td>\n",
       "    </tr>\n",
       "  </tbody>\n",
       "</table>\n",
       "</div>"
      ]
     },
     "execution_count": 62,
     "metadata": {},
     "output_type": "execute_result"
    }
   ],
   "source": [
    "result_r_dataframe = fn_desc_stats.desc_stats(df)\n",
    "result_pandas_dataframe = pandas2ri.ri2py_dataframe(result_r_dataframe)\n",
    "result_pandas_dataframe"
   ]
  },
  {
   "cell_type": "code",
   "execution_count": 87,
   "metadata": {},
   "outputs": [
    {
     "data": {
      "text/plain": [
       "'sparsity'"
      ]
     },
     "execution_count": 87,
     "metadata": {},
     "output_type": "execute_result"
    }
   ],
   "source": [
    "constrictr_dir = os.path.join(\"/\",\"Users\", \"andrew\", \"Projects\", \"constrictpy\", \"ConstrictR\")\n",
    "sparsity = os.path.join(constrictr_dir, \"sparsity.R\")\n",
    "os.path.splitext(os.path.split(sparsity)[1])[0]"
   ]
  },
  {
   "cell_type": "code",
   "execution_count": 99,
   "metadata": {},
   "outputs": [
    {
     "data": {
      "text/plain": [
       "rpy2.robjects.vectors.DataFrame"
      ]
     },
     "execution_count": 99,
     "metadata": {},
     "output_type": "execute_result"
    }
   ],
   "source": [
    "import constrictpy.rfunctions\n",
    "constrictr_packages = constrictpy.rfunctions.source_packages()\n",
    "result = constrictr_packages[\"desc_stats\"].desc_stats(df)\n",
    "type(result)"
   ]
  }
 ],
 "metadata": {
  "kernelspec": {
   "display_name": "Python 2",
   "language": "python",
   "name": "python2"
  },
  "language_info": {
   "codemirror_mode": {
    "name": "ipython",
    "version": 2
   },
   "file_extension": ".py",
   "mimetype": "text/x-python",
   "name": "python",
   "nbconvert_exporter": "python",
   "pygments_lexer": "ipython2",
   "version": "2.7.6"
  }
 },
 "nbformat": 4,
 "nbformat_minor": 0
}
